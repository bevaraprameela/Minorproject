{
 "cells": [
  {
   "cell_type": "code",
   "execution_count": 5,
   "id": "63336117-11eb-494a-bf94-d1807f5e0dca",
   "metadata": {},
   "outputs": [
    {
     "name": "stderr",
     "output_type": "stream",
     "text": [
      "C:\\Users\\EXAM-OS\\anaconda3\\Lib\\site-packages\\keras\\src\\layers\\convolutional\\base_conv.py:107: UserWarning: Do not pass an `input_shape`/`input_dim` argument to a layer. When using Sequential models, prefer using an `Input(shape)` object as the first layer in the model instead.\n",
      "  super().__init__(activity_regularizer=activity_regularizer, **kwargs)\n"
     ]
    },
    {
     "name": "stdout",
     "output_type": "stream",
     "text": [
      "Epoch 1/20\n",
      "\u001b[1m208/208\u001b[0m \u001b[32m━━━━━━━━━━━━━━━━━━━━\u001b[0m\u001b[37m\u001b[0m \u001b[1m113s\u001b[0m 530ms/step - accuracy: 0.9138 - loss: 0.2426 - val_accuracy: 1.0000 - val_loss: 2.8193e-06\n",
      "Epoch 2/20\n",
      "\u001b[1m208/208\u001b[0m \u001b[32m━━━━━━━━━━━━━━━━━━━━\u001b[0m\u001b[37m\u001b[0m \u001b[1m103s\u001b[0m 495ms/step - accuracy: 0.9975 - loss: 0.0108 - val_accuracy: 1.0000 - val_loss: 2.5410e-06\n",
      "Epoch 3/20\n",
      "\u001b[1m208/208\u001b[0m \u001b[32m━━━━━━━━━━━━━━━━━━━━\u001b[0m\u001b[37m\u001b[0m \u001b[1m101s\u001b[0m 486ms/step - accuracy: 1.0000 - loss: 3.3768e-05 - val_accuracy: 1.0000 - val_loss: 2.4028e-07\n",
      "Epoch 4/20\n",
      "\u001b[1m208/208\u001b[0m \u001b[32m━━━━━━━━━━━━━━━━━━━━\u001b[0m\u001b[37m\u001b[0m \u001b[1m102s\u001b[0m 491ms/step - accuracy: 1.0000 - loss: 2.9658e-05 - val_accuracy: 1.0000 - val_loss: 2.2925e-08\n",
      "Epoch 5/20\n",
      "\u001b[1m208/208\u001b[0m \u001b[32m━━━━━━━━━━━━━━━━━━━━\u001b[0m\u001b[37m\u001b[0m \u001b[1m104s\u001b[0m 499ms/step - accuracy: 1.0000 - loss: 3.2121e-05 - val_accuracy: 1.0000 - val_loss: 1.0173e-08\n",
      "Epoch 6/20\n",
      "\u001b[1m208/208\u001b[0m \u001b[32m━━━━━━━━━━━━━━━━━━━━\u001b[0m\u001b[37m\u001b[0m \u001b[1m105s\u001b[0m 505ms/step - accuracy: 1.0000 - loss: 1.6346e-06 - val_accuracy: 1.0000 - val_loss: 4.0119e-09\n",
      "Epoch 7/20\n",
      "\u001b[1m208/208\u001b[0m \u001b[32m━━━━━━━━━━━━━━━━━━━━\u001b[0m\u001b[37m\u001b[0m \u001b[1m105s\u001b[0m 503ms/step - accuracy: 1.0000 - loss: 2.3734e-06 - val_accuracy: 1.0000 - val_loss: 1.7194e-09\n",
      "Epoch 8/20\n",
      "\u001b[1m208/208\u001b[0m \u001b[32m━━━━━━━━━━━━━━━━━━━━\u001b[0m\u001b[37m\u001b[0m \u001b[1m101s\u001b[0m 487ms/step - accuracy: 1.0000 - loss: 1.1897e-06 - val_accuracy: 1.0000 - val_loss: 4.2984e-10\n",
      "Epoch 9/20\n",
      "\u001b[1m208/208\u001b[0m \u001b[32m━━━━━━━━━━━━━━━━━━━━\u001b[0m\u001b[37m\u001b[0m \u001b[1m103s\u001b[0m 496ms/step - accuracy: 1.0000 - loss: 6.1591e-06 - val_accuracy: 1.0000 - val_loss: 1.4328e-10\n",
      "Epoch 10/20\n",
      "\u001b[1m208/208\u001b[0m \u001b[32m━━━━━━━━━━━━━━━━━━━━\u001b[0m\u001b[37m\u001b[0m \u001b[1m99s\u001b[0m 474ms/step - accuracy: 1.0000 - loss: 3.7514e-07 - val_accuracy: 1.0000 - val_loss: 1.4328e-10\n",
      "Epoch 11/20\n",
      "\u001b[1m208/208\u001b[0m \u001b[32m━━━━━━━━━━━━━━━━━━━━\u001b[0m\u001b[37m\u001b[0m \u001b[1m101s\u001b[0m 488ms/step - accuracy: 1.0000 - loss: 1.1331e-06 - val_accuracy: 1.0000 - val_loss: 0.0000e+00\n",
      "Epoch 12/20\n",
      "\u001b[1m208/208\u001b[0m \u001b[32m━━━━━━━━━━━━━━━━━━━━\u001b[0m\u001b[37m\u001b[0m \u001b[1m99s\u001b[0m 476ms/step - accuracy: 1.0000 - loss: 2.4885e-05 - val_accuracy: 1.0000 - val_loss: 2.8656e-10\n",
      "Epoch 13/20\n",
      "\u001b[1m208/208\u001b[0m \u001b[32m━━━━━━━━━━━━━━━━━━━━\u001b[0m\u001b[37m\u001b[0m \u001b[1m100s\u001b[0m 480ms/step - accuracy: 1.0000 - loss: 5.9463e-07 - val_accuracy: 1.0000 - val_loss: 2.8656e-10\n",
      "Epoch 14/20\n",
      "\u001b[1m208/208\u001b[0m \u001b[32m━━━━━━━━━━━━━━━━━━━━\u001b[0m\u001b[37m\u001b[0m \u001b[1m99s\u001b[0m 474ms/step - accuracy: 1.0000 - loss: 4.8379e-06 - val_accuracy: 1.0000 - val_loss: 0.0000e+00\n",
      "Epoch 15/20\n",
      "\u001b[1m208/208\u001b[0m \u001b[32m━━━━━━━━━━━━━━━━━━━━\u001b[0m\u001b[37m\u001b[0m \u001b[1m99s\u001b[0m 475ms/step - accuracy: 1.0000 - loss: 5.2504e-07 - val_accuracy: 1.0000 - val_loss: 0.0000e+00\n",
      "Epoch 16/20\n",
      "\u001b[1m208/208\u001b[0m \u001b[32m━━━━━━━━━━━━━━━━━━━━\u001b[0m\u001b[37m\u001b[0m \u001b[1m101s\u001b[0m 485ms/step - accuracy: 1.0000 - loss: 4.3193e-07 - val_accuracy: 1.0000 - val_loss: 0.0000e+00\n"
     ]
    }
   ],
   "source": [
    "import os\n",
    "import numpy as np\n",
    "from tensorflow.keras.preprocessing.image import load_img, img_to_array\n",
    "from tensorflow.keras.utils import to_categorical\n",
    "from tensorflow.keras.models import Sequential\n",
    "from tensorflow.keras.layers import Conv2D, MaxPooling2D, Flatten, Dense, Dropout\n",
    "from tensorflow.keras.callbacks import ModelCheckpoint, EarlyStopping\n",
    "from sklearn.model_selection import train_test_split\n",
    "\n",
    "# Define paths\n",
    "data_path = 'Cashew Kernel Classification.v2i.multiclass/Train_data/train'\n",
    "\n",
    "# Define class labels\n",
    "class_labels = {'W180': 0, 'W320': 1, 'W400': 2}\n",
    "\n",
    "# Custom function to load and label images\n",
    "def load_and_label_images(data_path, class_labels):\n",
    "    images = []\n",
    "    labels = []\n",
    "    for filename in os.listdir(data_path):\n",
    "        if filename.endswith('.jpg') or filename.endswith('.png'):\n",
    "            img_path = os.path.join(data_path, filename)\n",
    "            img = load_img(img_path, target_size=(224, 224))\n",
    "            img_array = img_to_array(img) / 255.0\n",
    "            images.append(img_array)\n",
    "            label_str = filename[:4]\n",
    "            label = class_labels.get(label_str)\n",
    "            labels.append(label)\n",
    "    return np.array(images), np.array(labels)\n",
    "\n",
    "# Load and preprocess images\n",
    "images, labels = load_and_label_images(data_path, class_labels)\n",
    "labels = to_categorical(labels, num_classes=3)\n",
    "\n",
    "# Split the data into training and validation sets\n",
    "X_train, X_val, y_train, y_val = train_test_split(images, labels, test_size=0.2, random_state=42)\n",
    "\n",
    "# Define the model architecture\n",
    "model = Sequential([\n",
    "    Conv2D(32, (3, 3), activation='relu', input_shape=(224, 224, 3)),\n",
    "    MaxPooling2D((2, 2)),\n",
    "    Conv2D(64, (3, 3), activation='relu'),\n",
    "    MaxPooling2D((2, 2)),\n",
    "    Conv2D(128, (3, 3), activation='relu'),\n",
    "    MaxPooling2D((2, 2)),\n",
    "    Flatten(),\n",
    "    Dense(512, activation='relu'),\n",
    "    Dropout(0.5),\n",
    "    Dense(3, activation='softmax')  # 3 classes for W180, W320, W400\n",
    "])\n",
    "\n",
    "# Compile the model\n",
    "model.compile(optimizer='adam', loss='categorical_crossentropy', metrics=['accuracy'])\n",
    "\n",
    "# Callback functions for better training management\n",
    "checkpoint = ModelCheckpoint('my_model.keras', save_best_only=True, monitor='val_loss', mode='min')\n",
    "early_stopping = EarlyStopping(monitor='val_loss', patience=5, mode='min')\n",
    "\n",
    "# Train the model\n",
    "history = model.fit(\n",
    "    X_train, y_train,\n",
    "    epochs=20,\n",
    "    validation_data=(X_val, y_val),\n",
    "    callbacks=[checkpoint, early_stopping],\n",
    "    batch_size=16\n",
    ")\n"
   ]
  },
  {
   "cell_type": "code",
   "execution_count": 14,
   "id": "ec90f3c8-e1f3-4374-9756-f0d26f0841d7",
   "metadata": {},
   "outputs": [
    {
     "name": "stdout",
     "output_type": "stream",
     "text": [
      "\u001b[1m1/1\u001b[0m \u001b[32m━━━━━━━━━━━━━━━━━━━━\u001b[0m\u001b[37m\u001b[0m \u001b[1m0s\u001b[0m 31ms/step\n",
      "The image is classified as: W180\n"
     ]
    }
   ],
   "source": [
    "from tensorflow.keras.preprocessing import image\n",
    "\n",
    "def classify_image(model, img_path, threshold=0.7):\n",
    "    img = image.load_img(img_path, target_size=(224, 224))\n",
    "    img_array = image.img_to_array(img) / 255.0\n",
    "    img_array = np.expand_dims(img_array, axis=0)\n",
    "\n",
    "    predictions = model.predict(img_array)\n",
    "    max_prob = np.max(predictions)\n",
    "    if max_prob < threshold:\n",
    "        return 'Grade_D'\n",
    "    else:\n",
    "        class_idx = np.argmax(predictions)\n",
    "        classes = ['W180', 'W320', 'W400']\n",
    "        return classes[class_idx]\n",
    "\n",
    "# Example usage\n",
    "img_path = 'nature.jpg'\n",
    "result = classify_image(model, img_path)\n",
    "print(f'The image is classified as: {result}')\n"
   ]
  },
  {
   "cell_type": "code",
   "execution_count": null,
   "id": "82763a2a-3af2-4a91-81fe-9cdaccf28293",
   "metadata": {},
   "outputs": [],
   "source": []
  }
 ],
 "metadata": {
  "kernelspec": {
   "display_name": "Python 3 (ipykernel)",
   "language": "python",
   "name": "python3"
  },
  "language_info": {
   "codemirror_mode": {
    "name": "ipython",
    "version": 3
   },
   "file_extension": ".py",
   "mimetype": "text/x-python",
   "name": "python",
   "nbconvert_exporter": "python",
   "pygments_lexer": "ipython3",
   "version": "3.9.12"
  }
 },
 "nbformat": 4,
 "nbformat_minor": 5
}
